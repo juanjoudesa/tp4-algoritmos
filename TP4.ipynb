{
 "cells": [
  {
   "cell_type": "code",
   "execution_count": 1,
   "id": "bc17107a-d453-47a7-95da-db3308a7c251",
   "metadata": {},
   "outputs": [],
   "source": [
    "from typing import Optional, Any, List\n",
    "\n",
    "\n",
    "class Graph:\n",
    "    \"\"\"\n",
    "    Graph class\n",
    "    \"\"\"\n",
    "    def __init__(self):\n",
    "        self._graph = {}\n",
    "\n",
    "    def add_vertex(self, vertex: str, data: Optional[Any]=None) -> None:\n",
    "        \"\"\"\n",
    "        Adds a vertex to the graph\n",
    "        :param vertex: the vertex name\n",
    "        :param data: data associated with the vertex\n",
    "        \"\"\"\n",
    "        if vertex not in self._graph:\n",
    "            self._graph[vertex] = {'data': data, 'neighbors': {}}\n",
    "\n",
    "    def add_edge(self, vertex1: str, vertex2: str, data: Optional[Any]=None) -> None:\n",
    "        \"\"\"\n",
    "        Adds an edge to the graph\n",
    "        :param vertex1: vertex1 key\n",
    "        :param vertex2: vertex2 key\n",
    "        :param data: the data associated with the vertex\n",
    "        \"\"\"\n",
    "        if not vertex1 in self._graph or not vertex2 in self._graph:\n",
    "            raise ValueError(\"The vertexes do not exist\")\n",
    "        self._graph[vertex1]['neighbors'][vertex2] = data\n",
    "\n",
    "    def get_neighbors(self, vertex) -> List[str]:\n",
    "        \"\"\"\n",
    "        Get the list of vertex neighbors\n",
    "        :param vertex: the vertex to query\n",
    "        :return: the list of neighbor vertexes\n",
    "        \"\"\"\n",
    "        if vertex in self._graph:\n",
    "            return list(self._graph[vertex]['neighbors'].keys())\n",
    "        else:\n",
    "            return []\n",
    "\n",
    "    def get_vertex_data(self, vertex: str) -> Optional[Any]:\n",
    "        \"\"\"\n",
    "        Gets  vertex associated data\n",
    "        :param vertex: the vertex name\n",
    "        :return: the vertex data\n",
    "        \"\"\"\n",
    "        if self.vertex_exists(vertex):\n",
    "            return self._graph[vertex]['data']\n",
    "        else:\n",
    "            return None\n",
    "\n",
    "    def get_edge_data(self, vertex1: str, vertex2: str) -> Optional[Any]:\n",
    "        \"\"\"\n",
    "        Gets the vertexes edge data\n",
    "        :param vertex1: the vertex1 name\n",
    "        :param vertex2: the vertex2 name\n",
    "        :return: vertexes edge data\n",
    "        \"\"\"\n",
    "        if self.edge_exists(vertex1, vertex2):\n",
    "            return self._graph[vertex1]['neighbors'][vertex2]\n",
    "        raise ValueError(\"The edge does not exist\")\n",
    "\n",
    "    def print_graph(self) -> None:\n",
    "        \"\"\"\n",
    "        Prints the graph\n",
    "        \"\"\"\n",
    "        for vertex, data in self._graph.items():\n",
    "            print(\"Vertex:\", vertex)\n",
    "            print(\"Data:\", data['data'])\n",
    "            print(\"Neighbors:\", data['neighbors'])\n",
    "            print(\"\")\n",
    "\n",
    "    def vertex_exists(self, vertex: str) -> bool:\n",
    "        \"\"\"\n",
    "        If contains a vertex\n",
    "        :param vertex: the vertex name\n",
    "        :return: boolean\n",
    "        \"\"\"\n",
    "        return vertex in self._graph\n",
    "\n",
    "    def edge_exists(self, vertex1: str, vertex2: str) -> bool:\n",
    "        \"\"\"\n",
    "        If contains an edge\n",
    "        :param vertex1: the vertex1 name\n",
    "        :param vertex2: the vertex2 name\n",
    "        :return: boolean\n",
    "        \"\"\"\n",
    "        return vertex1 in self._graph and vertex2 in self._graph[vertex1]['neighbors']"
   ]
  },
  {
   "cell_type": "code",
   "execution_count": 2,
   "id": "755a0b5d-7a13-43ef-91c3-bd8019b9cd86",
   "metadata": {},
   "outputs": [],
   "source": [
    "graph = Graph()"
   ]
  },
  {
   "cell_type": "code",
   "execution_count": 3,
   "id": "e483af11-17b5-4bdc-9438-2204bcdd9e8e",
   "metadata": {},
   "outputs": [
    {
     "name": "stderr",
     "output_type": "stream",
     "text": [
      "Loading edges: 100%|█████████▉| 101409095/101409330 [03:18<00:00, 509765.23it/s]\n"
     ]
    }
   ],
   "source": [
    "from tqdm import tqdm\n",
    "\n",
    "index_title_dict = {}\n",
    "\n",
    "with open(\"vertexes.txt\", \"r\", encoding=\"utf8\") as file:\n",
    "    for line in file:\n",
    "        index = int(line.split(\" \")[0])\n",
    "        title = \" \".join(line[:-1].split(\" \")[1:])\n",
    "        index_title_dict[index] = title\n",
    "        graph.add_vertex(title)\n",
    "\n",
    "with open(\"edges.txt\", \"r\", encoding=\"utf8\") as file:\n",
    "    for line in tqdm(file, desc=\"Loading edges\", total=101409330):\n",
    "        art1 = int(line[:-1].split(\" \")[0])\n",
    "        art2 = int(line[:-1].split(\" \")[1])\n",
    "        q = int(line[:-1].split(\" \")[2])\n",
    "        if art1 in index_title_dict and art2 in index_title_dict:\n",
    "            graph.add_edge(index_title_dict[art1], index_title_dict[art2], q)\n",
    "\n",
    "del index_title_dict"
   ]
  },
  {
   "cell_type": "code",
   "execution_count": 4,
   "metadata": {},
   "outputs": [
    {
     "name": "stderr",
     "output_type": "stream",
     "text": [
      "Building undirected graph: 100%|██████████| 3958452/3958452 [03:04<00:00, 21451.15it/s]\n"
     ]
    }
   ],
   "source": [
    "#construir el grafo no dirigido subyacente\n",
    "\n",
    "def build_undirected_graph(graph: Graph) -> Graph:\n",
    "    \"\"\"\n",
    "    Builds the undirected graph\n",
    "    :param graph: the graph\n",
    "    :return: the undirected graph\n",
    "    \"\"\"\n",
    "    undirected_graph = Graph()\n",
    "    for vertex in graph._graph:\n",
    "        undirected_graph.add_vertex(vertex)\n",
    "    for vertex in tqdm(graph._graph, desc=\"Building undirected graph\"):\n",
    "        for neighbor in graph.get_neighbors(vertex):\n",
    "            undirected_graph.add_edge(vertex, neighbor, graph.get_edge_data(vertex, neighbor))\n",
    "            undirected_graph.add_edge(neighbor, vertex, graph.get_edge_data(vertex, neighbor))\n",
    "    return undirected_graph\n",
    "\n",
    "undirected_graph = build_undirected_graph(graph)\n",
    "\n"
   ]
  },
  {
   "cell_type": "code",
   "execution_count": 5,
   "metadata": {},
   "outputs": [],
   "source": [
    "del graph"
   ]
  },
  {
   "cell_type": "code",
   "execution_count": 6,
   "metadata": {},
   "outputs": [
    {
     "name": "stderr",
     "output_type": "stream",
     "text": [
      "Counting components with BFS: 100%|██████████| 3958452/3958452 [01:00<00:00, 65681.10it/s] \n"
     ]
    },
    {
     "name": "stdout",
     "output_type": "stream",
     "text": [
      "32665\n"
     ]
    }
   ],
   "source": [
    "from collections import deque\n",
    "\n",
    "def count_connected_components_bfs(graph: Graph) -> int:\n",
    "    visited = set()  \n",
    "    components = 0  \n",
    "\n",
    "    def bfs(start_vertex):\n",
    "        queue = deque([start_vertex])\n",
    "        while queue:\n",
    "            current = queue.popleft()\n",
    "            if current not in visited:\n",
    "                visited.add(current)\n",
    "                for neighbor in graph.get_neighbors(current):\n",
    "                    if neighbor not in visited:\n",
    "                        queue.append(neighbor)\n",
    "\n",
    "    for vertex in tqdm(graph._graph.keys(), desc=\"Counting components with BFS\"):\n",
    "        if vertex not in visited:\n",
    "            components += 1\n",
    "            bfs(vertex)\n",
    "\n",
    "    return components\n",
    "\n",
    "print(count_connected_components_bfs(undirected_graph))\n",
    "\n",
    "del undirected_graph"
   ]
  },
  {
   "cell_type": "code",
   "execution_count": 7,
   "metadata": {},
   "outputs": [
    {
     "name": "stderr",
     "output_type": "stream",
     "text": [
      "Loading edges: 100%|█████████▉| 101409095/101409330 [03:22<00:00, 501691.75it/s]\n"
     ]
    }
   ],
   "source": [
    "graph = Graph()\n",
    "\n",
    "index_title_dict = {}\n",
    "\n",
    "with open(\"vertexes.txt\", \"r\", encoding=\"utf8\") as file:\n",
    "    for line in file:\n",
    "        index = int(line.split(\" \")[0])\n",
    "        title = \" \".join(line[:-1].split(\" \")[1:])\n",
    "        index_title_dict[index] = title\n",
    "        graph.add_vertex(title)\n",
    "\n",
    "with open(\"edges.txt\", \"r\", encoding=\"utf8\") as file:\n",
    "    for line in tqdm(file, desc=\"Loading edges\", total=101409330):\n",
    "        art1 = int(line[:-1].split(\" \")[0])\n",
    "        art2 = int(line[:-1].split(\" \")[1])\n",
    "        q = int(line[:-1].split(\" \")[2])\n",
    "        if art1 in index_title_dict and art2 in index_title_dict:\n",
    "            graph.add_edge(index_title_dict[art1], index_title_dict[art2], q)\n",
    "\n",
    "del index_title_dict"
   ]
  },
  {
   "cell_type": "code",
   "execution_count": 22,
   "metadata": {},
   "outputs": [],
   "source": [
    "from collections import deque\n",
    "\n",
    "def find_shortest_path(graph, start, end):\n",
    "    if start == end:\n",
    "        return [0, [start]]\n",
    "\n",
    "    dist = 0\n",
    "    visited = set()\n",
    "    queue = deque()\n",
    "    anterior = {start: None}  \n",
    "    \n",
    "    queue.append((start, dist))\n",
    "    \n",
    "    while queue:\n",
    "        current, dist = queue.popleft()\n",
    "        \n",
    "        if current == end:\n",
    "            path = []\n",
    "            while current:\n",
    "                path.append(current)\n",
    "                current = anterior.get(current)\n",
    "            return [len(path) - 1, path[::-1]]  \n",
    "        \n",
    "        if current in visited:\n",
    "            continue\n",
    "        visited.add(current)\n",
    "        \n",
    "        for neighbor in graph.get_neighbors(current):\n",
    "            if neighbor not in visited:\n",
    "                queue.append((neighbor, dist + 1))\n",
    "                if neighbor not in anterior:\n",
    "                    anterior[neighbor] = current\n",
    "        return []\n",
    "\n",
    "min_path = find_shortest_path(graph, \"Samsung Galaxy J7 Prime\", \"Guillermo Francella\")"
   ]
  },
  {
   "cell_type": "code",
   "execution_count": 23,
   "metadata": {},
   "outputs": [
    {
     "name": "stdout",
     "output_type": "stream",
     "text": [
      "[5, ['Samsung Galaxy J7 Prime', 'Android', 'GNU General Public License', '25 de febrero', '14 de febrero', 'Guillermo Francella']]\n"
     ]
    }
   ],
   "source": [
    "print(min_path)"
   ]
  },
  {
   "cell_type": "code",
   "execution_count": 24,
   "metadata": {},
   "outputs": [
    {
     "name": "stdout",
     "output_type": "stream",
     "text": [
      "Camino más original:\n",
      "Samsung Galaxy J7 Prime -> Android -> GNU General Public License -> 25 de febrero -> 14 de febrero -> Guillermo Francella\n",
      "Peso promedio: 1.0\n",
      "\n",
      "Camino menos original:\n",
      "Samsung Galaxy J7 Prime -> 4G -> Uruguay -> Argentina -> El secreto de sus ojos -> Guillermo Francella\n",
      "Peso promedio: 6.4\n"
     ]
    }
   ],
   "source": [
    "from collections import deque\n",
    "\n",
    "def find_most_least_original_paths(graph: Graph, start: str, end: str) :\n",
    "    min_paths = []\n",
    "    min_length = float('inf')\n",
    "    \n",
    "    queue = deque([(start, [start], 0)])\n",
    "    \n",
    "    levels = {start: 0}\n",
    "    \n",
    "    while queue:\n",
    "        current, path, current_weight = queue.popleft()\n",
    "        \n",
    "        if len(path) > min_length:\n",
    "            break\n",
    "        \n",
    "        if current == end:\n",
    "            if len(path) <= min_length:\n",
    "                min_length = len(path)\n",
    "                min_paths.append((path, current_weight / (len(path) - 1)))\n",
    "            continue\n",
    "        \n",
    "        for neighbor in graph.get_neighbors(current):\n",
    "            try:\n",
    "                edge_weight = graph.get_edge_data(current, neighbor)\n",
    "            except:\n",
    "                edge_weight = 1  \n",
    "            \n",
    "            if neighbor not in levels or levels[neighbor] == levels.get(current, 0) + 1:\n",
    "                new_path = path + [neighbor]\n",
    "                new_weight = current_weight + edge_weight\n",
    "                \n",
    "                queue.append((neighbor, new_path, new_weight))\n",
    "                levels[neighbor] = levels.get(current, 0) + 1\n",
    "    \n",
    "    if not min_paths:\n",
    "        return None\n",
    "    \n",
    "    min_paths.sort(key=lambda x: x[1])\n",
    "    \n",
    "    return {\n",
    "        'most_original_path': min_paths[0][0],  \n",
    "        'least_original_path': min_paths[-1][0],  \n",
    "        'most_original_weight': min_paths[0][1],\n",
    "        'least_original_weight': min_paths[-1][1]\n",
    "    }\n",
    "\n",
    "def demo_originalidad(graph):\n",
    "    start = \"Samsung Galaxy J7 Prime\"\n",
    "    end = \"Guillermo Francella\"\n",
    "    \n",
    "    resultado = find_most_least_original_paths(graph, start, end)\n",
    "    \n",
    "    if resultado:\n",
    "        print(\"Camino más original:\")\n",
    "        print(\" -> \".join(resultado['most_original_path']))\n",
    "        print(f\"Peso promedio: {resultado['most_original_weight']}\")\n",
    "        \n",
    "        print(\"\\nCamino menos original:\")\n",
    "        print(\" -> \".join(resultado['least_original_path']))\n",
    "        print(f\"Peso promedio: {resultado['least_original_weight']}\")\n",
    "    else:\n",
    "        print(\"No se encontraron caminos\")\n",
    "\n",
    "demo_originalidad(graph)"
   ]
  },
  {
   "cell_type": "code",
   "execution_count": null,
   "metadata": {},
   "outputs": [],
   "source": []
  }
 ],
 "metadata": {
  "kernelspec": {
   "display_name": "Python 3 (ipykernel)",
   "language": "python",
   "name": "python3"
  },
  "language_info": {
   "codemirror_mode": {
    "name": "ipython",
    "version": 3
   },
   "file_extension": ".py",
   "mimetype": "text/x-python",
   "name": "python",
   "nbconvert_exporter": "python",
   "pygments_lexer": "ipython3",
   "version": "3.10.0"
  }
 },
 "nbformat": 4,
 "nbformat_minor": 5
}
